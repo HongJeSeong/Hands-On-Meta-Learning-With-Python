{
 "cells": [
  {
   "cell_type": "markdown",
   "metadata": {},
   "source": [
    "# What are Siamese Networks?"
   ]
  },
  {
   "cell_type": "markdown",
   "metadata": {},
   "source": [
    "Siamese networks are the special types of neural networks and it is one of the simplest and popularly used one shot learning algorithms. As we have learned in the previous chapter, one shot learning is a technique where we learn from only one training example per each class. So, the siamese network is predominantly used in applications where we don't have many data points for each of the class. For an instance, let us say we want to build a face recognition model for our organization and say about 500 people are working in our organization. If we want to build our face recognition model using convolutional neural network (CNN) from scratch then we need many images of all these 500 people for training the network and attaining good accuracy. But apparently, we will not have many images for all these 500 people and so it is not feasible to build a model using a CNN or any deep learning algorithm unless we have sufficient data points. So in these kinds of scenarios, we can resort to a sophisticated one shot learning algorithm like siamese network which can learn from less data points."
   ]
  },
  {
   "cell_type": "markdown",
   "metadata": {},
   "source": [
    "샴 네트워크는 신경망의 특수한 유형이며, 가장 단순하고 널리 사용되는 원 샷 학습 알고리즘 중 하나이다. 원샷 학습은 각 클래스당 단 하나의 학습 샘플에서 배우는 기술이다. 샴 네트워크는 우리가 각 클래스에 대한 데이터 포인트가 많지 않은 애플리케이션에서 주로 사용된다. 예를 들어, 우리는 우리 조직에 얼굴 인식 모델을 구축하기를 원하며 500명 정도가 우리 조직에서 일하고 있다고 하자. 우리가 CNN을 사용하여 얼굴 인식 모델을 구축하려면 네트워크를 훈련시키고 좋은 정확도를 얻기 위해 이 500명 모두의 많은 이미지가 필요하다.\n",
    "하지만, 우리는 이 500명 모두를 위한 많은 이미지들을 가지고 있지 않을 것이고, 따라서 충분한 데이터 포인트가 없는 한 CNN이나 어떤 딥러닝 알고리즘을 사용하여 모델을 만드는 것은 실현 가능하지 않다. 그래서 이런 종류의 시나리오에서는, 우리는 `더 적은 데이터 포인트로`부터 학습할 수 있는 샴 네트워크와 같은 정교한 원샷 학습 알고리즘에 의존할 수 있다."
   ]
  },
  {
   "cell_type": "markdown",
   "metadata": {},
   "source": [
    "But how do siamese networks work? Siamese networks basically consist of two symmetrical neural networks both sharing the same weights and architecture and both joined together at the end using some energy function $E$.  The objective of our siamese network is to learn whether the two inputs are similar or dissimilar.  Let's say we have two images $X_1$ and $X_2$ and we want to learn whether the two images are similar or dissimilar."
   ]
  },
  {
   "cell_type": "markdown",
   "metadata": {},
   "source": [
    "하지만 샴 네트워크는 어떻게 작동할까? 샴 네트워크는 기본적으로 `동일한 가중치`와 `구조를 공유`하는 `두 개의 대칭 신경 네트워크`로 구성되며, 두 네트워크 모두 에너지 함수 $E$을 사용하여 마지막에 함께 결합된다. 우리의 샴 네트워크의 목적은 `두 입력이 비슷한지 다른지를 학습하는 것`이다. 우리가 $X_1$와 $X_2$의 두 이미지를 가지고 있다고 가정해 봅시다. 그리고 우리는 두 이미지가 비슷한지 아니면 다른지 알고 싶다."
   ]
  },
  {
   "cell_type": "markdown",
   "metadata": {},
   "source": [
    "\n",
    "As shown in the following diagram, we feed the image $X_1$ to network A and the image $X_2$ to another Network B. The role of both of these networks is to generate embeddings (feature vectors) for the input image. So we can use any network that will give us embeddings. Since our input is an image, we can use a convolutional network for generating the embeddings that is, for extracting features. Remember the role of CNN here is only to extract features and not to classify. As we know that these networks should have same weights and architecture, if our Network A is three-layer CNN then our Network B should also be a three-layer CNN and we have to use the same set of weights for both of these networks. So Network A and Network B will give us the embeddings for the input image $X_1$ and $X_2$ respectively. Then we will feed these embeddings to the energy function which tells us how similar the two input images are. Energy functions are basically any similarity measure such as Euclidean distance, cosine similarity, and so on."
   ]
  },
  {
   "cell_type": "markdown",
   "metadata": {},
   "source": [
    "다음 다이어그램에서 볼 수 있듯이, 이미지 $X_1$를 네트워크 A에, 이미지 $X_2$를 다른 네트워크 B에 공급한다. 이 두 네트워크의 역할은 입력 이미지에 대한 임베딩(기능 벡터)을 생성하는 것이다. 그래서 우리는 어떤 네트워크든 우리에게 임베딩하는 것을 사용할 수 있다. 우리의 입력은 이미지이기 때문에, 우리는 임베딩, 즉 기능을 추출하기 위해 콘볼루션 네트워크를 사용할 수 있다. 여기서 CNN의 역할은 단지 특징을 추출하는 것이지 분류하는 것이 아니라는 것을 기억하라. 우리가 알고 있듯이, 이러한 네트워크들은 동일한 가중치와 구조를 가져야 한다. 만약 우리의 네트워크 A가 3층 CNN이라면, 우리의 네트워크 B도 3층 CNN이 되어야 하며 우리는 이 두 네트워크 모두에 동일한 가중치를 사용해야 한다. 그래서 Network A와 Network B는 각각 입력 이미지 $X_1$와 $X_2$에 대한 임베딩을 제공할 것이다. 그리고 나서 우리는 이 임베딩들을 두 입력 이미지가 얼마나 비슷한지 알려주는 에너지 기능에 공급할 것이다. 에너지 함수는 기본적으로 유클리드 거리, 코사인 유사성 등과 같은 모든 유사성 측도이다."
   ]
  },
  {
   "cell_type": "markdown",
   "metadata": {},
   "source": [
    "![title](Images/4.png)"
   ]
  },
  {
   "cell_type": "markdown",
   "metadata": {},
   "source": [
    "Siamese networks are not only used for face recognition, but it is also used extensively in the applications where we don't have much data points and tasks where we need to learn a similarity between two inputs. The application of siamese network includes signature verification, similar question retrieval, object tracking and more. We will study siamese networks in detail in the upcoming section. "
   ]
  },
  {
   "cell_type": "markdown",
   "metadata": {},
   "source": [
    "샴 네트워크는 얼굴 인식에만 사용되는 것이 아니라, 데이터 포인트가 많지 않은 애플리케이션과 두 입력 사이의 유사성을 학습해야 하는 작업에서도 광범위하게 사용된다. 샴 네트워크의 적용은 서명 검증, 유사한 질문 검색, 객체 추적 등을 포함한다. 우리는 다가오는 섹션에서 샴 네트워크를 자세히 공부할 것이다."
   ]
  },
  {
   "cell_type": "markdown",
   "metadata": {},
   "source": [
    "We explore siamese networks in detail in the upcoming section. "
   ]
  }
 ],
 "metadata": {
  "kernelspec": {
   "display_name": "Python 3",
   "language": "python",
   "name": "python3"
  },
  "language_info": {
   "codemirror_mode": {
    "name": "ipython",
    "version": 3
   },
   "file_extension": ".py",
   "mimetype": "text/x-python",
   "name": "python",
   "nbconvert_exporter": "python",
   "pygments_lexer": "ipython3",
   "version": "3.6.9"
  }
 },
 "nbformat": 4,
 "nbformat_minor": 2
}
