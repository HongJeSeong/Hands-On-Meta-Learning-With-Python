{
 "cells": [
  {
   "cell_type": "markdown",
   "metadata": {},
   "source": [
    "# Relation Networks in One-Shot Learning"
   ]
  },
  {
   "cell_type": "markdown",
   "metadata": {},
   "source": [
    "# One-shot 러닝 에서의 관계 네트워크"
   ]
  },
  {
   "cell_type": "markdown",
   "metadata": {},
   "source": [
    "Relation network consists of two important functions: embedding function denoted by $f_{\\varphi}$  and the relation function denoted by $g_{\\phi}$.  The embedding function is used for extracting the features from the input. If our input is an image, then we can use a convolutional network as our embedding function which will give us the feature vectors/embeddings of an image. If our input is a text, then we can use LSTM networks for getting the embeddings of the text. \n",
    "\n",
    "As we know in one shot learning, we will have only a single example per class, let us say our support set contains three classes with one example per each class.  As shown in the below figure, we have support set containing three classes {lion, elephant, dog}"
   ]
  },
  {
   "cell_type": "markdown",
   "metadata": {},
   "source": [
    "관계 네트워크는 2가지 중요한 기능으로 구성된다: 𝑓에 의해 표시된 내장 기능과 𝑔에 의해 표시된 관계 기능이다.\n",
    "임베딩 함수는 입력에서 피처를 추출하는 데 사용된다.\n",
    "만약 우리의 입력이 이미지라면, 우리는 convolutional network를 이미지의 특징 벡터/임베딩 기능을 제공하는 내장 기능으로 사용할 수 있다.\n",
    "만약 우리의 입력이 텍스트라면, 우리는 텍스트의 임베딩에 LSTM 네트워크를 사용할 수 있다.\n",
    "\n",
    "우리가 원샷 학습에서 알고 있듯이, 우리는 클래스당 하나의 예만 가질 것이다. 우리의 support 세트에 각 클래스당 하나의 예시가 있는 세 개의 클래스가 포함되어 있다고 하자. 아래 그림과 같이, 우리는 세 가지 클래스를 포함하는 support 세트를 가지고 있다."
   ]
  },
  {
   "cell_type": "markdown",
   "metadata": {},
   "source": [
    " - 𝑓에 의해 표시된 내장 기능\n",
    " - 𝑔에 의해 표시된 관계 기능"
   ]
  },
  {
   "cell_type": "markdown",
   "metadata": {},
   "source": [
    "![title](Images/1.png)"
   ]
  },
  {
   "cell_type": "markdown",
   "metadata": {},
   "source": [
    "And let us say we have a query image $x_j$ as shown in the below figure and we want to predict the class of this query image. "
   ]
  },
  {
   "cell_type": "markdown",
   "metadata": {},
   "source": [
    "그리고 아래 강아지 그림과 같이 query 이미지 𝑥𝑗가 있으며 이 query 이미지의 클래스를 예측하고 싶다고 하자."
   ]
  },
  {
   "cell_type": "markdown",
   "metadata": {},
   "source": [
    "![title](Images/2.png)"
   ]
  },
  {
   "cell_type": "markdown",
   "metadata": {},
   "source": [
    "First, we take each image $x_i$ from the support set and pass it to the embedding function $f_{\\varphi}(x_i)$ for extracting the features. Since our support set has images, we can use convolutional network as our embedding function for learning the embeddings. The embedding function will give us the feature vector of each of the data point in the support set.  Similarly, we will learn the embeddings of our query image $x_j$ by passing it to the embedding function $f_{\\varphi}(x_j)$."
   ]
  },
  {
   "cell_type": "markdown",
   "metadata": {},
   "source": [
    "support 세트로부터 각 이미지𝑥𝑖를 임베딩 함수 𝑓𝜑(𝑥𝑖)로 전달하여 특징 피처를 추출한다. support 세트에는 이미지가 있기 때문에 임베딩 학습을 위한 콘볼루션 네트워크를 사용할 수 있다. 임베딩 함수는 support 세트에 있는 각 데이터 포인트의 특징 벡터를 우리에게 제공할 것이다. 마찬가지로 우리의 query 이미지 𝑥𝑗의 임베딩도 임베딩함수 𝑓𝜑(𝑥𝑗)에 전달하여 학습할 것이다."
   ]
  },
  {
   "cell_type": "markdown",
   "metadata": {},
   "source": [
    "So, once we have the feature vectors of the support set $f_{\\varphi}(x_i)$ and query set $f_{\\varphi}(x_j)$. We combine them using some operator $Z$. Here $Z$ can be any combination operator, we use concatenation as an operator for combining the feature vectors of support and query set. \n",
    "\n",
    "$Z(f_{\\varphi}(x_i), f_{\\varphi}(x_j)) $"
   ]
  },
  {
   "cell_type": "markdown",
   "metadata": {},
   "source": [
    "support 세트 𝑥𝑖와 query 세트 𝑥𝑗의 특징 벡터를 가지고 있다. 𝑍 오퍼레이터를 통해 조합을 수행한다. 여기서 𝑍은 어떤 조합 연산자가 될 수 있으며, 우리는 support 및 query 세트의 특징 벡터를 결합하기 위한 연산자로서 결합을 사용한다.\n",
    "`𝑍(𝑓𝜑(𝑥𝑖),𝑓𝜑(𝑥𝑗))`"
   ]
  },
  {
   "cell_type": "markdown",
   "metadata": {},
   "source": [
    "As shown in the below figure we will combine the feature vectors of the support set $f_{\\varphi}(x_i)$   and query set $f_{\\varphi}(x_j)$. But what is the use of combining like this? It will help us to understand how the feature vector of an image in the support set is related to the feature vector of a query image. \n",
    "\n",
    "In our example, it will help us to understand how the feature vector of a lion is related to the feature vector of a query image, how the feature vector of an elephant is related to the feature vector of query image and how the feature vector of dog is related to the feature vector of query image. "
   ]
  },
  {
   "cell_type": "markdown",
   "metadata": {},
   "source": [
    "아래의 그림과 같이 우리는 support 세트 𝑓𝜑(𝑥𝑖) 와 query 세트 𝑓𝜑(𝑥𝑗)의 특징 벡터를 결합할 것이다.\n",
    "\n",
    "그런데 이렇게 합치면 무슨 소용이 있을까? support 세트에 있는 이미지의 특징 벡터가 query 이미지의 특징 벡터와 어떻게 관련되어 있는지 이해하는 데 도움이 될 것이다.\n",
    "\n",
    "본 예에서는 사자의 특징 벡터가 query 이미지의 특징 벡터와 어떻게 관련되는지, \n",
    "코끼리의 특징 벡터가 query 이미지의 특징 벡터와 어떻게 관련되는지, \n",
    "개의 특징 벡터가 query 이미지의 특징 벡터와 어떻게 관련되는지 이해하는 데 도움이 될 것이다."
   ]
  },
  {
   "cell_type": "markdown",
   "metadata": {},
   "source": [
    "![title](Images/3.png)"
   ]
  },
  {
   "cell_type": "markdown",
   "metadata": {},
   "source": [
    "But how can we measure this relatedness? So that is why we use a relation function $g_{\\phi}$. We pass this combined feature vectors to the relation function which will generate the relation score ranging from 0 to 1 representing the similarity between samples in the support set $x_i$ and samples in the query set $x_j$."
   ]
  },
  {
   "cell_type": "markdown",
   "metadata": {},
   "source": [
    "그러나 이러한 관련성을 어떻게 측정할 수 있을까? 그래서 관계 함수 𝑔𝜙를 사용하는 것이다. 이 결합된 특징 벡터를 support 세트 𝑥𝑖의 표본과 query 세트 𝑥𝑗의 표본 사이의 유사성을 나타내는 0부터 1까지의 관계 스코어를 생성하는 관계 함수에 전달한다."
   ]
  },
  {
   "cell_type": "markdown",
   "metadata": {},
   "source": [
    "The below equation shows how we compute relation score $r_{ij}$ in relation network, \n",
    "\n",
    "$r_{ij} = g_{\\phi} ( Z(f_{\\varphi}(x_i), f_{\\varphi}(x_j)))$"
   ]
  },
  {
   "cell_type": "markdown",
   "metadata": {},
   "source": [
    "아래 방정식은 관계 네트워크에서 관계 스코어를 계산하는 식이다.\n",
    "$r_{ij} = g_{\\phi} ( Z(f_{\\varphi}(x_i), f_{\\varphi}(x_j)))$"
   ]
  },
  {
   "cell_type": "markdown",
   "metadata": {},
   "source": [
    "where $r_{ij}$  denotes the relation score representing similarity between each of the class in the support set and the query image. Since we have three classes in the support set and one image in the query set, we will have  3 scores indicating how all the three classes in the support set is similar to the query image. "
   ]
  },
  {
   "cell_type": "markdown",
   "metadata": {},
   "source": [
    "여기서 $r_{ij}$는 support 세트의 각 클래스와 query 이미지 사이의 유사성을 나타내는 관계 점수를 나타낸다. support 세트에 세 개의 클래스가 있고 query 세트에 한 개의 이미지가 있으므로 query 세트에 있는 세 개의 클래스가 모두 query 이미지와 어떻게 유사한지 나타내는 3개의 점수가 있을 것이다."
   ]
  },
  {
   "cell_type": "markdown",
   "metadata": {},
   "source": [
    "The overall representation of relation network in one shot learning setting is shown in the below figure, "
   ]
  },
  {
   "cell_type": "markdown",
   "metadata": {},
   "source": [
    "원 샷 러닝 세팅의 관계 네트워크 전체적인 표현은 아래 그림에 나와 있다."
   ]
  },
  {
   "cell_type": "markdown",
   "metadata": {},
   "source": [
    "![title](Images/4.png)"
   ]
  },
  {
   "cell_type": "markdown",
   "metadata": {},
   "source": [
    "In the next section, we will learn how relation network is used in few shot and zero shot learning system. "
   ]
  }
 ],
 "metadata": {
  "kernelspec": {
   "display_name": "Python 3",
   "language": "python",
   "name": "python3"
  },
  "language_info": {
   "codemirror_mode": {
    "name": "ipython",
    "version": 3
   },
   "file_extension": ".py",
   "mimetype": "text/x-python",
   "name": "python",
   "nbconvert_exporter": "python",
   "pygments_lexer": "ipython3",
   "version": "3.6.9"
  }
 },
 "nbformat": 4,
 "nbformat_minor": 2
}
